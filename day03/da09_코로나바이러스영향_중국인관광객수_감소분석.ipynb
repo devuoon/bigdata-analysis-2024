{
 "cells": [
  {
   "cell_type": "markdown",
   "metadata": {},
   "source": [
    "## 빅데이터 실습\n",
    "\n",
    "### COIVD19, 코로나 바이러스의 영향으로 중국인 관광객이 얼마나 줄었을까?\n",
    "\n",
    "#### 데이터 수집\n",
    "- 한국관광공사, 한국관광 데이터랩 데이터\n",
    "\n",
    "#### 전처리\n",
    "- 분석 전에 제일 중요한 단계\n",
    "\n",
    "#### 분석\n",
    "- 필요 요소를 분석\n",
    "- 시각화, 결론 도출"
   ]
  },
  {
   "cell_type": "code",
   "execution_count": null,
   "metadata": {},
   "outputs": [],
   "source": []
  }
 ],
 "metadata": {
  "kernelspec": {
   "display_name": "Python 3",
   "language": "python",
   "name": "python3"
  },
  "language_info": {
   "name": "python",
   "version": "3.12.2"
  }
 },
 "nbformat": 4,
 "nbformat_minor": 2
}
