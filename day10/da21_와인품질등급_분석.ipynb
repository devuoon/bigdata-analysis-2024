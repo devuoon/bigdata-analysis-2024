{
 "cells": [
  {
   "cell_type": "markdown",
   "metadata": {},
   "source": [
    "## 빅데이터 실습\n",
    "\n",
    "### 와인품질 등급 분석/예측\n",
    "\n",
    "#### 데이터 수집\n",
    "\n",
    "##### UC 어바인 머신러닝 연구소제공 모듈 사용 \n",
    "- ucimlrepo(종속성 dotdict 모듈 같이 설치)\n",
    "[데이터](https://archive.ics.uci.edu/dataset/186/wine+quality)"
   ]
  },
  {
   "cell_type": "code",
   "execution_count": 4,
   "metadata": {},
   "outputs": [],
   "source": [
    "## 필수 라이브러리/모듈 사용등록\n",
    "import pandas as pd\n",
    "from ucimlrepo import fetch_ucirepo # 인터넷으로 통계 데이터를 다운로드 할 함수\n",
    "from scipy import stats # 과학수치모듈 내의 기술통계\n",
    "from statsmodels.formula.api import ols, glm # 분석을 위한 결과를 도출해주는 함수들\n"
   ]
  }
 ],
 "metadata": {
  "kernelspec": {
   "display_name": "Python 3",
   "language": "python",
   "name": "python3"
  },
  "language_info": {
   "codemirror_mode": {
    "name": "ipython",
    "version": 3
   },
   "file_extension": ".py",
   "mimetype": "text/x-python",
   "name": "python",
   "nbconvert_exporter": "python",
   "pygments_lexer": "ipython3",
   "version": "3.12.2"
  }
 },
 "nbformat": 4,
 "nbformat_minor": 2
}
