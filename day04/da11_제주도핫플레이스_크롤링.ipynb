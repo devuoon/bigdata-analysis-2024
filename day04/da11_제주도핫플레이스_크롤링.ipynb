{
 "cells": [
  {
   "cell_type": "markdown",
   "metadata": {},
   "source": [
    "### 빅데이터 실습\n",
    "\n",
    "#### 제주도 핫플레이스 웹크콜링\n",
    "\n",
    "#### 셀레니움 사용"
   ]
  },
  {
   "cell_type": "code",
   "execution_count": 38,
   "metadata": {},
   "outputs": [],
   "source": [
    "# 셀레니움 사용등록\n",
    "from selenium import webdriver\n",
    "from selenium.webdriver.common.by import By\n",
    "from bs4 import BeautifulSoup\n",
    "import unicodedata #유니코드 데이터 처리 모듈\n",
    "import re # 정규식 처리 모듈\n",
    "import time"
   ]
  },
  {
   "cell_type": "code",
   "execution_count": 14,
   "metadata": {},
   "outputs": [],
   "source": [
    "driver = webdriver.Chrome()"
   ]
  },
  {
   "cell_type": "markdown",
   "metadata": {},
   "source": [
    "##### 인스타그램 접속"
   ]
  },
  {
   "cell_type": "code",
   "execution_count": 15,
   "metadata": {},
   "outputs": [],
   "source": [
    "# 인스타그램 접속\n",
    "driver.get('https://www.instagram.com')\n",
    "time.sleep(2.0)"
   ]
  },
  {
   "cell_type": "markdown",
   "metadata": {},
   "source": [
    "##### 자동 로그인\n",
    "- 로그인 화면, 아이디, 패스워드 입력하는 html name 속성이 생김"
   ]
  },
  {
   "cell_type": "code",
   "execution_count": 16,
   "metadata": {},
   "outputs": [
    {
     "ename": "NameError",
     "evalue": "name 'email' is not defined",
     "output_type": "error",
     "traceback": [
      "\u001b[1;31m---------------------------------------------------------------------------\u001b[0m",
      "\u001b[1;31mNameError\u001b[0m                                 Traceback (most recent call last)",
      "Cell \u001b[1;32mIn[16], line 4\u001b[0m\n\u001b[0;32m      2\u001b[0m input_id \u001b[38;5;241m=\u001b[39m driver\u001b[38;5;241m.\u001b[39mfind_element(By\u001b[38;5;241m.\u001b[39mNAME, \u001b[38;5;124m'\u001b[39m\u001b[38;5;124musername\u001b[39m\u001b[38;5;124m'\u001b[39m)\n\u001b[0;32m      3\u001b[0m input_id\u001b[38;5;241m.\u001b[39mclear()\n\u001b[1;32m----> 4\u001b[0m input_id\u001b[38;5;241m.\u001b[39msend_keys(\u001b[43memail\u001b[49m)\n\u001b[0;32m      6\u001b[0m \u001b[38;5;66;03m## 인스타그램 비밀번호 입력\u001b[39;00m\n\u001b[0;32m      7\u001b[0m password \u001b[38;5;241m=\u001b[39m \u001b[38;5;124m'\u001b[39m\u001b[38;5;124m'\u001b[39m\n",
      "\u001b[1;31mNameError\u001b[0m: name 'email' is not defined"
     ]
    }
   ],
   "source": [
    "input_id = '' \n",
    "input_id = driver.find_element(By.NAME, 'username')\n",
    "input_id.clear()\n",
    "input_id.send_keys(email)\n",
    "\n",
    "## 인스타그램 비밀번호 입력\n",
    "password = ''\n",
    "input_pw = driver.find_element(By.NAME, 'password')\n",
    "input_pw.clear()\n",
    "input_pw.send_keys(password)\n",
    "input_pw.submit()\n",
    "time.sleep(2.0)"
   ]
  },
  {
   "cell_type": "markdown",
   "metadata": {},
   "source": [
    "##### 태그로 검색하면 30개 이상 검색안됨\n",
    "- 한 그룹의 게시물로 대체"
   ]
  },
  {
   "cell_type": "code",
   "execution_count": 17,
   "metadata": {},
   "outputs": [],
   "source": [
    "## 검색결과 URL 함수\n",
    "def searchInstagram(word):\n",
    "  url = 'https://www.instagram.com/explore/tags/{word}'\n",
    "  return url"
   ]
  },
  {
   "cell_type": "code",
   "execution_count": 18,
   "metadata": {},
   "outputs": [],
   "source": [
    "driver.get(searchInstagram('제주도맛집'))"
   ]
  },
  {
   "cell_type": "code",
   "execution_count": 43,
   "metadata": {},
   "outputs": [],
   "source": [
    "## 제주나드리 게시글로 검색\n",
    "#https://www.instagram.com/jeju__nadri/\n",
    "driver.get('https://www.instagram.com/jeju__nadri/')"
   ]
  },
  {
   "cell_type": "markdown",
   "metadata": {},
   "source": [
    "##### 게시글 클릭 후 게시글 정보 가져오기"
   ]
  },
  {
   "cell_type": "code",
   "execution_count": 44,
   "metadata": {},
   "outputs": [],
   "source": [
    "# 첫번째 게시글 클릭하는 함수\n",
    "first = driver.find_elements(By.CLASS_NAME, '_aagw')[0]\n",
    "first.click()\n",
    "time.sleep(2.0)"
   ]
  },
  {
   "cell_type": "code",
   "execution_count": 45,
   "metadata": {},
   "outputs": [],
   "source": [
    "## 게시글 정보 가져오기 함수\n",
    "def getContent(driver):\n",
    "  pass"
   ]
  },
  {
   "cell_type": "code",
   "execution_count": 58,
   "metadata": {},
   "outputs": [
    {
     "data": {
      "text/plain": [
       "['',\n",
       " '',\n",
       " '',\n",
       " '',\n",
       " '',\n",
       " '',\n",
       " '',\n",
       " '',\n",
       " '',\n",
       " '',\n",
       " '',\n",
       " '',\n",
       " '',\n",
       " '',\n",
       " '',\n",
       " '',\n",
       " '',\n",
       " '',\n",
       " '',\n",
       " '',\n",
       " '',\n",
       " '',\n",
       " '',\n",
       " '',\n",
       " '',\n",
       " '',\n",
       " '',\n",
       " '',\n",
       " '',\n",
       " '',\n",
       " '',\n",
       " '',\n",
       " '',\n",
       " '',\n",
       " '',\n",
       " '',\n",
       " '',\n",
       " '',\n",
       " '',\n",
       " '',\n",
       " '',\n",
       " '',\n",
       " '',\n",
       " '',\n",
       " '',\n",
       " '',\n",
       " '',\n",
       " '',\n",
       " '',\n",
       " '',\n",
       " '',\n",
       " '',\n",
       " '',\n",
       " '',\n",
       " '',\n",
       " '',\n",
       " '',\n",
       " '',\n",
       " '',\n",
       " '',\n",
       " '',\n",
       " '',\n",
       " '',\n",
       " '',\n",
       " '',\n",
       " '',\n",
       " '',\n",
       " '',\n",
       " '',\n",
       " '',\n",
       " '',\n",
       " '',\n",
       " '',\n",
       " '',\n",
       " '',\n",
       " '',\n",
       " '',\n",
       " '',\n",
       " '',\n",
       " '',\n",
       " '',\n",
       " '',\n",
       " '',\n",
       " '',\n",
       " '',\n",
       " '',\n",
       " '',\n",
       " '',\n",
       " '',\n",
       " '',\n",
       " '',\n",
       " '',\n",
       " '',\n",
       " '',\n",
       " '',\n",
       " '',\n",
       " '',\n",
       " '',\n",
       " '',\n",
       " '',\n",
       " '',\n",
       " '',\n",
       " '',\n",
       " '',\n",
       " '',\n",
       " '',\n",
       " '',\n",
       " '',\n",
       " '',\n",
       " '',\n",
       " '',\n",
       " '',\n",
       " '',\n",
       " '',\n",
       " '',\n",
       " '',\n",
       " '',\n",
       " '',\n",
       " '',\n",
       " '',\n",
       " '',\n",
       " '',\n",
       " '',\n",
       " '',\n",
       " '',\n",
       " '',\n",
       " '',\n",
       " '',\n",
       " '',\n",
       " '',\n",
       " '',\n",
       " '',\n",
       " '',\n",
       " '',\n",
       " '',\n",
       " '',\n",
       " '',\n",
       " '',\n",
       " '',\n",
       " '',\n",
       " '',\n",
       " '',\n",
       " '제주시 ',\n",
       " '',\n",
       " '',\n",
       " '',\n",
       " '',\n",
       " '',\n",
       " '',\n",
       " '',\n",
       " '',\n",
       " '',\n",
       " '',\n",
       " '',\n",
       " '',\n",
       " '',\n",
       " '',\n",
       " '',\n",
       " '',\n",
       " '',\n",
       " '',\n",
       " '',\n",
       " '',\n",
       " '',\n",
       " '',\n",
       " '',\n",
       " '',\n",
       " '',\n",
       " '',\n",
       " '',\n",
       " '',\n",
       " '',\n",
       " '',\n",
       " '',\n",
       " '',\n",
       " '',\n",
       " '',\n",
       " '',\n",
       " '',\n",
       " '',\n",
       " '',\n",
       " '',\n",
       " '',\n",
       " '',\n",
       " '',\n",
       " '',\n",
       " '',\n",
       " '',\n",
       " '',\n",
       " '',\n",
       " '',\n",
       " '',\n",
       " '',\n",
       " '',\n",
       " '',\n",
       " '',\n",
       " '',\n",
       " '',\n",
       " '',\n",
       " '',\n",
       " '',\n",
       " '',\n",
       " '',\n",
       " '',\n",
       " '',\n",
       " '',\n",
       " '',\n",
       " '',\n",
       " '',\n",
       " '',\n",
       " '',\n",
       " '',\n",
       " '',\n",
       " '',\n",
       " '',\n",
       " '',\n",
       " '',\n",
       " '',\n",
       " '',\n",
       " '',\n",
       " '',\n",
       " '',\n",
       " '',\n",
       " '',\n",
       " '',\n",
       " '',\n",
       " '',\n",
       " '',\n",
       " '',\n",
       " '',\n",
       " '',\n",
       " '',\n",
       " '',\n",
       " '',\n",
       " '',\n",
       " '',\n",
       " '',\n",
       " '',\n",
       " '',\n",
       " '',\n",
       " '',\n",
       " '',\n",
       " '',\n",
       " '',\n",
       " '',\n",
       " '',\n",
       " '',\n",
       " '',\n",
       " '',\n",
       " '',\n",
       " '',\n",
       " '',\n",
       " '',\n",
       " '',\n",
       " '',\n",
       " '',\n",
       " '',\n",
       " '',\n",
       " '',\n",
       " '',\n",
       " '',\n",
       " '',\n",
       " '',\n",
       " '',\n",
       " '',\n",
       " '',\n",
       " '']"
      ]
     },
     "execution_count": 58,
     "metadata": {},
     "output_type": "execute_result"
    }
   ],
   "source": [
    "## 게시글 가져오기 로직\n",
    "## 1. HTML코드 가져오기\n",
    "html = driver.page_source\n",
    "soup = BeautifulSoup(html, 'html.parser')\n",
    "\n",
    "## 2. 팝업 본문내용 가져오기\n",
    "content = soup.select('div._a9zr>div>h1')[0].text\n",
    "\n",
    "firstIndex = str(soup.select('div._a9zr>div>h1')[0]).index('>')\n",
    "lastIndex = str(soup.select('div._a9zr>div>h1')[0]).index('<br/>')\n",
    "shopName = str(soup.select('div._a9zr>div>h1')[0])[firstIndex+1:lastIndex]\n",
    "\n",
    "#content.split('📍')[1]\n",
    "\n",
    "## 3. 본문에서 해시태그 가져오기\n",
    "tags = re.findall(r'#[^\\s#,\\\\]+', content)\n",
    "tags\n",
    "\n",
    "\n",
    "# ## 4. 포스트 작성일자\n",
    "date = soup.select('time.x1p4m5qa')[0]['datetime'][:10]\n",
    "date\n",
    "\n",
    "# ## 5. 좋아요 수 가져오기\n",
    "like = soup.select('span.xdj266r.x11i5rnm.x1vvkbs')[3].text\n",
    "like\n",
    "\n",
    "## 6. 위치정보\n",
    "re.findall(r'(\\w+[시]\\s*)?', content)"
   ]
  },
  {
   "cell_type": "markdown",
   "metadata": {},
   "source": [
    "#### 워드 클라우드(Word Cloud)\n",
    "- 태그 중에서 빈도수가 높은 태그는 글자를 크게, 빈도수가 낮은 태그는 작게 표현해서 마치 구름처럼 나타내는 방법"
   ]
  },
  {
   "cell_type": "code",
   "execution_count": 61,
   "metadata": {},
   "outputs": [],
   "source": [
    "import pandas as pd"
   ]
  },
  {
   "cell_type": "code",
   "execution_count": 66,
   "metadata": {},
   "outputs": [
    {
     "data": {
      "text/plain": [
       "0       ['#제주핫플레이스', '#제주여행', '#제주여행', '#제주도여행', '#제주가...\n",
       "1       ['#제주핫플', '#제주여행', '#제주', '#제주도', '#제주도맛집', '#...\n",
       "2       ['#honestin', '#어니스틴', '#제주여행', '#제주', '#제주도',...\n",
       "3       ['#제주관광', '#제주살이', '#제주이주민', '#아라동주민', '#삼남매집'...\n",
       "4       ['#제주관광', '#제주', '#돔나이트', '#스트레스', '#풀자', '#춤추...\n",
       "                              ...                        \n",
       "8796    ['#일상', '#구기자', '#티타임', '#2019', '#새해', '#차스타그...\n",
       "8797    ['#제주', '#친정여행', '#겨울방학', '#제주여행앞머리는', '#친정찬스'...\n",
       "8798                           ['#사진좀찍으시는님덕에건져또', '#이순간']\n",
       "8799                                                   []\n",
       "8800                            ['#HappyNewYearEveryone']\n",
       "Name: tags, Length: 8801, dtype: object"
      ]
     },
     "execution_count": 66,
     "metadata": {},
     "output_type": "execute_result"
    }
   ],
   "source": [
    "raw_total = pd.read_excel('./data/1_crawling_raw.xlsx')\n",
    "raw_total['tags']"
   ]
  },
  {
   "cell_type": "code",
   "execution_count": 71,
   "metadata": {},
   "outputs": [
    {
     "data": {
      "text/plain": [
       "'#카운트다운'"
      ]
     },
     "execution_count": 71,
     "metadata": {},
     "output_type": "execute_result"
    }
   ],
   "source": [
    "##\n",
    "raw_total['tags'][33][2:-2].split(\"', '\")[1]"
   ]
  },
  {
   "cell_type": "code",
   "execution_count": 73,
   "metadata": {},
   "outputs": [],
   "source": [
    "## tqdm 모듈 사용\n",
    "from tqdm import tqdm"
   ]
  },
  {
   "cell_type": "code",
   "execution_count": 74,
   "metadata": {},
   "outputs": [
    {
     "name": "stderr",
     "output_type": "stream",
     "text": [
      "100%|██████████| 8801/8801 [00:00<00:00, 220143.30it/s]\n"
     ]
    }
   ],
   "source": [
    "tagAllList = []\n",
    "\n",
    "for tags in tqdm(raw_total['tags']): # 8800개 반복\n",
    "  tagList = tags[2:-2].split(\"', '\") #다시 리스트로\n",
    "  for tag in tagList: # 갯수가 유동\n",
    "    tagAllList.append(tag)\n",
    "  "
   ]
  },
  {
   "cell_type": "code",
   "execution_count": 76,
   "metadata": {},
   "outputs": [],
   "source": [
    "## 해시태그 출현 빈도 집계\n",
    "from collections import Counter"
   ]
  },
  {
   "cell_type": "code",
   "execution_count": 77,
   "metadata": {},
   "outputs": [],
   "source": [
    "tagCounts = Counter(tagAllList)"
   ]
  },
  {
   "cell_type": "code",
   "execution_count": 78,
   "metadata": {},
   "outputs": [
    {
     "data": {
      "text/plain": [
       "[('#제주맛집', 3750),\n",
       " ('#제주도맛집', 3467),\n",
       " ('#제주여행', 3204),\n",
       " ('#제주관광', 2898),\n",
       " ('#제주도', 2096),\n",
       " ('#제주', 1567),\n",
       " ('#제주도여행', 1555),\n",
       " ('#서귀포맛집', 1392),\n",
       " ('#제주도가볼만한곳', 1047),\n",
       " ('#서귀포', 872),\n",
       " ('#제주핫플레이스', 848),\n",
       " ('#jeju', 776),\n",
       " ('#제주흑돼지맛집', 730),\n",
       " ('#제주맛집추천', 728),\n",
       " ('#일상', 717),\n",
       " ('#제주도흑돼지', 713),\n",
       " ('#제주카페', 711),\n",
       " ('#제주도흑돼지맛집', 709),\n",
       " ('#제주흑돼지', 693),\n",
       " ('#협재맛집', 677),\n",
       " ('#성산일출봉', 674),\n",
       " ('#제주도민', 637),\n",
       " ('#제주도그램', 609),\n",
       " ('#서귀포흑돼지맛집', 605),\n",
       " ('', 588),\n",
       " ('#서귀포흑돼지', 582),\n",
       " ('#제주가볼만한곳', 580),\n",
       " ('#성산일출봉맛집', 567),\n",
       " ('#섭지코지', 558),\n",
       " ('#제주도민맛집', 542),\n",
       " ('#제주핫플', 530),\n",
       " ('#선팔', 522),\n",
       " ('#섭지코지맛집', 519),\n",
       " ('#제주살이', 516),\n",
       " ('#여행스타그램', 498),\n",
       " ('#통갈치구이', 495),\n",
       " ('#제주통갈치구이', 485),\n",
       " ('#제주서귀포맛집', 479),\n",
       " ('#제주반영구', 478),\n",
       " ('#중문맛집', 472),\n",
       " ('#제주눈썹문신', 472),\n",
       " ('#제주도관광', 471),\n",
       " ('#서귀포눈썹문신', 458),\n",
       " ('#여행', 455),\n",
       " ('#먹스타그램', 453),\n",
       " ('#제주시', 451),\n",
       " ('#반영구', 443),\n",
       " ('#눈썹문신', 443),\n",
       " ('#제주자연눈썹', 435),\n",
       " ('#제주속눈썹', 435)]"
      ]
     },
     "execution_count": 78,
     "metadata": {},
     "output_type": "execute_result"
    }
   ],
   "source": [
    "tagCounts.most_common(50)"
   ]
  },
  {
   "cell_type": "code",
   "execution_count": 79,
   "metadata": {},
   "outputs": [],
   "source": [
    "## 맛집 이외의 해시태그는 제외\n",
    "STOPWORDS = ['#제주도', '#제주', '#jeju', '#제주시', '#일상', '#제주도민', '#반영구', \n",
    "'#눈썹문신', '#제주자연눈썹','#제주속눈썹', '#제주도그램', '#선팔', '#서귀포', '#제주살이',\n",
    "'#여행스타그램', '#제주반영구', '#제주눈썹문신', '#서귀포눈썹문신']\n",
    "\n",
    "tagFilterList = []\n",
    "for tag in tagAllList:\n",
    "  if tag not in STOPWORDS: # 제외시킬 단어에 속하지 않으면\n",
    "    tagFilterList.append(tag)\n",
    "    "
   ]
  },
  {
   "cell_type": "code",
   "execution_count": 81,
   "metadata": {},
   "outputs": [
    {
     "data": {
      "text/plain": [
       "[('#제주맛집', 3750),\n",
       " ('#제주도맛집', 3467),\n",
       " ('#제주여행', 3204),\n",
       " ('#제주관광', 2898),\n",
       " ('#제주도여행', 1555),\n",
       " ('#서귀포맛집', 1392),\n",
       " ('#제주도가볼만한곳', 1047),\n",
       " ('#서귀포', 872),\n",
       " ('#제주핫플레이스', 848),\n",
       " ('#제주흑돼지맛집', 730),\n",
       " ('#제주맛집추천', 728),\n",
       " ('#제주도흑돼지', 713),\n",
       " ('#제주카페', 711),\n",
       " ('#제주도흑돼지맛집', 709),\n",
       " ('#제주흑돼지', 693),\n",
       " ('#협재맛집', 677),\n",
       " ('#성산일출봉', 674),\n",
       " ('#제주도그램', 609),\n",
       " ('#서귀포흑돼지맛집', 605),\n",
       " ('', 588),\n",
       " ('#서귀포흑돼지', 582),\n",
       " ('#제주가볼만한곳', 580),\n",
       " ('#성산일출봉맛집', 567),\n",
       " ('#섭지코지', 558),\n",
       " ('#제주도민맛집', 542),\n",
       " ('#제주핫플', 530),\n",
       " ('#선팔', 522),\n",
       " ('#섭지코지맛집', 519),\n",
       " ('#제주살이', 516),\n",
       " ('#여행스타그램', 498),\n",
       " ('#통갈치구이', 495),\n",
       " ('#제주통갈치구이', 485),\n",
       " ('#제주서귀포맛집', 479),\n",
       " ('#제주반영구', 478),\n",
       " ('#중문맛집', 472),\n",
       " ('#제주눈썹문신', 472),\n",
       " ('#제주도관광', 471),\n",
       " ('#서귀포눈썹문신', 458),\n",
       " ('#여행', 455),\n",
       " ('#먹스타그램', 453),\n",
       " ('#서귀포남자눈썹문신', 433),\n",
       " ('#서귀포자연눈썹', 433),\n",
       " ('#제주남자눈썹문신', 433),\n",
       " ('#서귀포속눈썹', 433),\n",
       " ('#서귀포반영구', 433),\n",
       " ('#제주스타그램', 432),\n",
       " ('#제주일상', 424),\n",
       " ('#애월맛집', 410),\n",
       " ('#소통', 396),\n",
       " ('#맞팔', 395)]"
      ]
     },
     "execution_count": 81,
     "metadata": {},
     "output_type": "execute_result"
    }
   ],
   "source": [
    "tagFilterCounts = Counter(tagFilterList)\n",
    "tagFilterCounts.most_common(50)"
   ]
  },
  {
   "cell_type": "markdown",
   "metadata": {},
   "source": [
    "##### 시각화"
   ]
  },
  {
   "cell_type": "code",
   "execution_count": 91,
   "metadata": {},
   "outputs": [],
   "source": [
    "# 시각화 라이브러리 사용등록\n",
    "import matplotlib.pyplot as plt\n",
    "import seaborn as sns"
   ]
  },
  {
   "cell_type": "code",
   "execution_count": 97,
   "metadata": {},
   "outputs": [],
   "source": [
    "# 한글 깨짐 문제 해결\n",
    "from matplotlib import rcParams, font_manager, rc\n",
    "\n",
    "font_path = 'C:/Windows/Fonts/NanumGothicCoding.ttf' # 나눔고딕코딩 사용, 나눔고딕에서 오류발생(!)\n",
    "font = font_manager.FontProperties(fname=font_path).get_name() # 실제 설치된 폰트 이름조회\n",
    "rc('font', family=font) # 한글깨짐현상 해결!!\n",
    "rcParams['axes.unicode_minus'] = False # 한글 사용시 마이너스 표시 깨짐 해결!"
   ]
  },
  {
   "cell_type": "code",
   "execution_count": 84,
   "metadata": {},
   "outputs": [],
   "source": [
    "# 차트 스타일 지정\n",
    "sns.set_style('darkgrid')"
   ]
  },
  {
   "cell_type": "code",
   "execution_count": 93,
   "metadata": {},
   "outputs": [],
   "source": [
    "dfTagCounts = pd.DataFrame(tagFilterCounts.most_common(30))"
   ]
  },
  {
   "cell_type": "code",
   "execution_count": 99,
   "metadata": {},
   "outputs": [],
   "source": [
    "## 불필요한 경고메시지 제거\n",
    "import warnings\n",
    "warnings.filterwarnings('ignore')"
   ]
  },
  {
   "cell_type": "code",
   "execution_count": 94,
   "metadata": {},
   "outputs": [],
   "source": [
    "dfTagCounts.columns =['tag','counts']"
   ]
  },
  {
   "cell_type": "code",
   "execution_count": 101,
   "metadata": {},
   "outputs": [
    {
     "data": {
      "image/png": "[encoded data removed]",
      "text/plain": [
       "<Figure size 1000x1000 with 1 Axes>"
      ]
     },
     "metadata": {},
     "output_type": "display_data"
    }
   ],
   "source": [
    "## 막대차트\n",
    "plt.figure(figsize=(10, 10))\n",
    "## palette 종류 : pastel, husl\n",
    "sns.barplot(x='counts', y='tag', data=dfTagCounts, palette='hls')\n",
    "plt.show()"
   ]
  }
 ],
 "metadata": {
  "kernelspec": {
   "display_name": "Python 3",
   "language": "python",
   "name": "python3"
  },
  "language_info": {
   "codemirror_mode": {
    "name": "ipython",
    "version": 3
   },
   "file_extension": ".py",
   "mimetype": "text/x-python",
   "name": "python",
   "nbconvert_exporter": "python",
   "pygments_lexer": "ipython3",
   "version": "3.12.2"
  }
 },
 "nbformat": 4,
 "nbformat_minor": 2
}
