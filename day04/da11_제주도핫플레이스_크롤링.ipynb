{
 "cells": [
  {
   "cell_type": "markdown",
   "metadata": {},
   "source": [
    "### 빅데이터 실습\n",
    "\n",
    "#### 제주도 핫플레이스 웹크콜링\n",
    "\n",
    "#### 셀레니움 사용"
   ]
  },
  {
   "cell_type": "code",
   "execution_count": 38,
   "metadata": {},
   "outputs": [],
   "source": [
    "# 셀레니움 사용등록\n",
    "from selenium import webdriver\n",
    "from selenium.webdriver.common.by import By\n",
    "from bs4 import BeautifulSoup\n",
    "import unicodedata #유니코드 데이터 처리 모듈\n",
    "import re # 정규식 처리 모듈\n",
    "import time"
   ]
  },
  {
   "cell_type": "code",
   "execution_count": 14,
   "metadata": {},
   "outputs": [],
   "source": [
    "driver = webdriver.Chrome()"
   ]
  },
  {
   "cell_type": "markdown",
   "metadata": {},
   "source": [
    "##### 인스타그램 접속"
   ]
  },
  {
   "cell_type": "code",
   "execution_count": 15,
   "metadata": {},
   "outputs": [],
   "source": [
    "# 인스타그램 접속\n",
    "driver.get('https://www.instagram.com')\n",
    "time.sleep(2.0)"
   ]
  },
  {
   "cell_type": "markdown",
   "metadata": {},
   "source": [
    "##### 자동 로그인\n",
    "- 로그인 화면, 아이디, 패스워드 입력하는 html name 속성이 생김"
   ]
  },
  {
   "cell_type": "code",
   "execution_count": 16,
   "metadata": {},
   "outputs": [
    {
     "ename": "NameError",
     "evalue": "name 'email' is not defined",
     "output_type": "error",
     "traceback": [
      "\u001b[1;31m---------------------------------------------------------------------------\u001b[0m",
      "\u001b[1;31mNameError\u001b[0m                                 Traceback (most recent call last)",
      "Cell \u001b[1;32mIn[16], line 4\u001b[0m\n\u001b[0;32m      2\u001b[0m input_id \u001b[38;5;241m=\u001b[39m driver\u001b[38;5;241m.\u001b[39mfind_element(By\u001b[38;5;241m.\u001b[39mNAME, \u001b[38;5;124m'\u001b[39m\u001b[38;5;124musername\u001b[39m\u001b[38;5;124m'\u001b[39m)\n\u001b[0;32m      3\u001b[0m input_id\u001b[38;5;241m.\u001b[39mclear()\n\u001b[1;32m----> 4\u001b[0m input_id\u001b[38;5;241m.\u001b[39msend_keys(\u001b[43memail\u001b[49m)\n\u001b[0;32m      6\u001b[0m \u001b[38;5;66;03m## 인스타그램 비밀번호 입력\u001b[39;00m\n\u001b[0;32m      7\u001b[0m password \u001b[38;5;241m=\u001b[39m \u001b[38;5;124m'\u001b[39m\u001b[38;5;124m'\u001b[39m\n",
      "\u001b[1;31mNameError\u001b[0m: name 'email' is not defined"
     ]
    }
   ],
   "source": [
    "input_id = '' \n",
    "input_id = driver.find_element(By.NAME, 'username')\n",
    "input_id.clear()\n",
    "input_id.send_keys(email)\n",
    "\n",
    "## 인스타그램 비밀번호 입력\n",
    "password = ''\n",
    "input_pw = driver.find_element(By.NAME, 'password')\n",
    "input_pw.clear()\n",
    "input_pw.send_keys(password)\n",
    "input_pw.submit()\n",
    "time.sleep(2.0)"
   ]
  },
  {
   "cell_type": "markdown",
   "metadata": {},
   "source": [
    "##### 태그로 검색하면 30개 이상 검색안됨\n",
    "- 한 그룹의 게시물로 대체"
   ]
  },
  {
   "cell_type": "code",
   "execution_count": 17,
   "metadata": {},
   "outputs": [],
   "source": [
    "## 검색결과 URL 함수\n",
    "def searchInstagram(word):\n",
    "  url = 'https://www.instagram.com/explore/tags/{word}'\n",
    "  return url"
   ]
  },
  {
   "cell_type": "code",
   "execution_count": 18,
   "metadata": {},
   "outputs": [],
   "source": [
    "driver.get(searchInstagram('제주도맛집'))"
   ]
  },
  {
   "cell_type": "code",
   "execution_count": 43,
   "metadata": {},
   "outputs": [],
   "source": [
    "## 제주나드리 게시글로 검색\n",
    "#https://www.instagram.com/jeju__nadri/\n",
    "driver.get('https://www.instagram.com/jeju__nadri/')"
   ]
  },
  {
   "cell_type": "markdown",
   "metadata": {},
   "source": [
    "##### 게시글 클릭 후 게시글 정보 가져오기"
   ]
  },
  {
   "cell_type": "code",
   "execution_count": 44,
   "metadata": {},
   "outputs": [],
   "source": [
    "# 첫번째 게시글 클릭하는 함수\n",
    "first = driver.find_elements(By.CLASS_NAME, '_aagw')[0]\n",
    "first.click()\n",
    "time.sleep(2.0)"
   ]
  },
  {
   "cell_type": "code",
   "execution_count": 45,
   "metadata": {},
   "outputs": [],
   "source": [
    "## 게시글 정보 가져오기 함수\n",
    "def getContent(driver):\n",
    "  pass"
   ]
  },
  {
   "cell_type": "code",
   "execution_count": 54,
   "metadata": {},
   "outputs": [
    {
     "name": "stdout",
     "output_type": "stream",
     "text": [
      "제주 기념품 편집샵 썸제주👀제주도에서 가장 핫하다는 기념품 전문점 썸제주💛기념품 편집샵 답게 음식, 핸드메이드 소품, 그리고제주도 농수산물까지 한번에 쇼핑할 수 있어구경하다 보면 시간 가는 줄 모른다고😍🛍️제주공항 근처에 위치해 있어서 찾아가기도 편하고여행 마지막날 잠깐 들러서 기념품 쇼핑하면여행 내내 무거운 짐 때문에 고생안해도 된다구✈️거기다 가격도 착해서 저렴한 가격에착한가격에 귀요미들 득템하기 딱 이다!맘에 드는 귀요미 발견하면 얼른 겟해야한다구 🎁💰이제 제주도 여행 갔다가 기념품 때문에 고민하지 말고신나게 놀다가 썸제주 가서 한방에 해결하자❤@@제주도 가면 여기 가보자----------------------------------------📌 @ssumjeju 📍제주 제주시 일주서로 7815 산림조합 1층🕰09:00~19:00📞010-7244-2390----------------------------------------#썸제주 #제주소품샵 #공항근처선물가게 #제주선물추천 #제주신혼여행선물 #제주답례품 #제주쇼핑리스트 #제주기념품 #제주특산품 #제주선물할인매장\n"
     ]
    }
   ],
   "source": [
    "## 게시글 가져오기 로직\n",
    "## 1. HTML코드 가져오기\n",
    "html = driver.page_source\n",
    "soup = BeautifulSoup(html, 'html.parser')\n",
    "\n",
    "## 2. 팝업 본문내용 가져오기\n",
    "content = soup.select('div._a9zr>div>h1')[0].text\n",
    "\n",
    "firstIndex = str(soup.select('div._a9zr>div>h1')[0]).index('>')\n",
    "lastIndex = str(soup.select('div._a9zr>div>h1')[0]).index('<br/>')\n",
    "shopName = str(soup.select('div._a9zr>div>h1')[0])[firstIndex+1:lastIndex]\n",
    "\n",
    "#content.split('📍')[1]\n",
    "\n",
    "## 3. 본문에서 해시태그 가져오기\n",
    "tags = re.findall(r'#[^\\s#,\\\\]+', content)\n",
    "#tags\n",
    "print(content)\n",
    "\n",
    "# ## 4. 포스트 작성일자\n",
    "# date = soup.select('time.x1p4m5qa')[0]['datetime'][:10]\n",
    "# date\n",
    "\n",
    "# ## 5. 좋아요 수 가져오기\n",
    "# soup.select('span.xdj266r.x11i5rnm.x1vvkbs')[3].text"
   ]
  }
 ],
 "metadata": {
  "kernelspec": {
   "display_name": "Python 3",
   "language": "python",
   "name": "python3"
  },
  "language_info": {
   "codemirror_mode": {
    "name": "ipython",
    "version": 3
   },
   "file_extension": ".py",
   "mimetype": "text/x-python",
   "name": "python",
   "nbconvert_exporter": "python",
   "pygments_lexer": "ipython3",
   "version": "3.12.2"
  }
 },
 "nbformat": 4,
 "nbformat_minor": 2
}
